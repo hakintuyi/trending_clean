{
 "cells": [
  {
   "cell_type": "code",
   "execution_count": 1,
   "id": "5d8b71de-2c7f-4a43-9bc3-9d6b9c432459",
   "metadata": {},
   "outputs": [],
   "source": [
    "#importing the liberies \n",
    "import pandas as pd\n",
    "import matplotlib.pyplot as plt\n",
    "import seaborn as sns\n"
   ]
  },
  {
   "cell_type": "code",
   "execution_count": 2,
   "id": "e97cb69b-0db7-46e7-9b64-b32e18bad21e",
   "metadata": {},
   "outputs": [],
   "source": [
    "df = pd.read_csv(\"trending.csv/trending.csv\")"
   ]
  },
  {
   "cell_type": "markdown",
   "id": "e82acff8-93bf-41aa-9d65-adbce99a38c6",
   "metadata": {},
   "source": [
    "## We display rows of dataframe"
   ]
  },
  {
   "cell_type": "code",
   "execution_count": 3,
   "id": "fa561e67-8f5f-4bb5-82ea-60e9cff7506b",
   "metadata": {
    "tags": []
   },
   "outputs": [
    {
     "data": {
      "text/html": [
       "<div>\n",
       "<style scoped>\n",
       "    .dataframe tbody tr th:only-of-type {\n",
       "        vertical-align: middle;\n",
       "    }\n",
       "\n",
       "    .dataframe tbody tr th {\n",
       "        vertical-align: top;\n",
       "    }\n",
       "\n",
       "    .dataframe thead th {\n",
       "        text-align: right;\n",
       "    }\n",
       "</style>\n",
       "<table border=\"1\" class=\"dataframe\">\n",
       "  <thead>\n",
       "    <tr style=\"text-align: right;\">\n",
       "      <th></th>\n",
       "      <th>Unnamed: 0</th>\n",
       "      <th>id</th>\n",
       "      <th>original_title</th>\n",
       "      <th>original_language</th>\n",
       "      <th>release_date</th>\n",
       "      <th>popularity</th>\n",
       "      <th>vote_average</th>\n",
       "      <th>vote_count</th>\n",
       "      <th>media_type</th>\n",
       "      <th>adult</th>\n",
       "    </tr>\n",
       "  </thead>\n",
       "  <tbody>\n",
       "    <tr>\n",
       "      <th>0</th>\n",
       "      <td>0</td>\n",
       "      <td>638974</td>\n",
       "      <td>Murder Mystery 2</td>\n",
       "      <td>English</td>\n",
       "      <td>2023-03-26</td>\n",
       "      <td>235.901</td>\n",
       "      <td>6.800</td>\n",
       "      <td>187</td>\n",
       "      <td>movie</td>\n",
       "      <td>False</td>\n",
       "    </tr>\n",
       "    <tr>\n",
       "      <th>1</th>\n",
       "      <td>1</td>\n",
       "      <td>677179</td>\n",
       "      <td>Creed III</td>\n",
       "      <td>English</td>\n",
       "      <td>2023-03-01</td>\n",
       "      <td>1537.879</td>\n",
       "      <td>7.200</td>\n",
       "      <td>561</td>\n",
       "      <td>movie</td>\n",
       "      <td>False</td>\n",
       "    </tr>\n",
       "    <tr>\n",
       "      <th>2</th>\n",
       "      <td>2</td>\n",
       "      <td>726759</td>\n",
       "      <td>Tetris</td>\n",
       "      <td>English</td>\n",
       "      <td>2023-03-15</td>\n",
       "      <td>66.661</td>\n",
       "      <td>7.700</td>\n",
       "      <td>100</td>\n",
       "      <td>movie</td>\n",
       "      <td>False</td>\n",
       "    </tr>\n",
       "    <tr>\n",
       "      <th>3</th>\n",
       "      <td>3</td>\n",
       "      <td>76600</td>\n",
       "      <td>Avatar: The Way of Water</td>\n",
       "      <td>English</td>\n",
       "      <td>2022-12-14</td>\n",
       "      <td>10224.280</td>\n",
       "      <td>7.742</td>\n",
       "      <td>6335</td>\n",
       "      <td>movie</td>\n",
       "      <td>False</td>\n",
       "    </tr>\n",
       "    <tr>\n",
       "      <th>4</th>\n",
       "      <td>4</td>\n",
       "      <td>849869</td>\n",
       "      <td>길복순</td>\n",
       "      <td>Korean</td>\n",
       "      <td>2023-02-17</td>\n",
       "      <td>33.985</td>\n",
       "      <td>6.900</td>\n",
       "      <td>39</td>\n",
       "      <td>movie</td>\n",
       "      <td>False</td>\n",
       "    </tr>\n",
       "  </tbody>\n",
       "</table>\n",
       "</div>"
      ],
      "text/plain": [
       "   Unnamed: 0      id            original_title original_language  \\\n",
       "0           0  638974          Murder Mystery 2           English   \n",
       "1           1  677179                 Creed III           English   \n",
       "2           2  726759                    Tetris           English   \n",
       "3           3   76600  Avatar: The Way of Water           English   \n",
       "4           4  849869                       길복순            Korean   \n",
       "\n",
       "  release_date  popularity  vote_average  vote_count media_type  adult  \n",
       "0   2023-03-26     235.901         6.800         187      movie  False  \n",
       "1   2023-03-01    1537.879         7.200         561      movie  False  \n",
       "2   2023-03-15      66.661         7.700         100      movie  False  \n",
       "3   2022-12-14   10224.280         7.742        6335      movie  False  \n",
       "4   2023-02-17      33.985         6.900          39      movie  False  "
      ]
     },
     "execution_count": 3,
     "metadata": {},
     "output_type": "execute_result"
    }
   ],
   "source": [
    "df.head()"
   ]
  },
  {
   "cell_type": "code",
   "execution_count": 4,
   "id": "8fbadea3-6801-486a-a1ee-3fad8239b603",
   "metadata": {},
   "outputs": [],
   "source": [
    "# I dropped the Unnamed and id from the index because they don't have any effect on the dataframe"
   ]
  },
  {
   "cell_type": "code",
   "execution_count": 5,
   "id": "afcb180c-84a1-4785-a340-ddaded7c6f55",
   "metadata": {},
   "outputs": [],
   "source": [
    "df.drop(['Unnamed: 0', 'id'], axis=1, inplace=True)"
   ]
  },
  {
   "cell_type": "code",
   "execution_count": 6,
   "id": "a4af84b9-d8f4-4ef0-a7e8-d9cce0eb0193",
   "metadata": {
    "tags": []
   },
   "outputs": [
    {
     "data": {
      "text/html": [
       "<div>\n",
       "<style scoped>\n",
       "    .dataframe tbody tr th:only-of-type {\n",
       "        vertical-align: middle;\n",
       "    }\n",
       "\n",
       "    .dataframe tbody tr th {\n",
       "        vertical-align: top;\n",
       "    }\n",
       "\n",
       "    .dataframe thead th {\n",
       "        text-align: right;\n",
       "    }\n",
       "</style>\n",
       "<table border=\"1\" class=\"dataframe\">\n",
       "  <thead>\n",
       "    <tr style=\"text-align: right;\">\n",
       "      <th></th>\n",
       "      <th>original_title</th>\n",
       "      <th>original_language</th>\n",
       "      <th>release_date</th>\n",
       "      <th>popularity</th>\n",
       "      <th>vote_average</th>\n",
       "      <th>vote_count</th>\n",
       "      <th>media_type</th>\n",
       "      <th>adult</th>\n",
       "    </tr>\n",
       "  </thead>\n",
       "  <tbody>\n",
       "    <tr>\n",
       "      <th>0</th>\n",
       "      <td>Murder Mystery 2</td>\n",
       "      <td>English</td>\n",
       "      <td>2023-03-26</td>\n",
       "      <td>235.901</td>\n",
       "      <td>6.800</td>\n",
       "      <td>187</td>\n",
       "      <td>movie</td>\n",
       "      <td>False</td>\n",
       "    </tr>\n",
       "    <tr>\n",
       "      <th>1</th>\n",
       "      <td>Creed III</td>\n",
       "      <td>English</td>\n",
       "      <td>2023-03-01</td>\n",
       "      <td>1537.879</td>\n",
       "      <td>7.200</td>\n",
       "      <td>561</td>\n",
       "      <td>movie</td>\n",
       "      <td>False</td>\n",
       "    </tr>\n",
       "    <tr>\n",
       "      <th>2</th>\n",
       "      <td>Tetris</td>\n",
       "      <td>English</td>\n",
       "      <td>2023-03-15</td>\n",
       "      <td>66.661</td>\n",
       "      <td>7.700</td>\n",
       "      <td>100</td>\n",
       "      <td>movie</td>\n",
       "      <td>False</td>\n",
       "    </tr>\n",
       "    <tr>\n",
       "      <th>3</th>\n",
       "      <td>Avatar: The Way of Water</td>\n",
       "      <td>English</td>\n",
       "      <td>2022-12-14</td>\n",
       "      <td>10224.280</td>\n",
       "      <td>7.742</td>\n",
       "      <td>6335</td>\n",
       "      <td>movie</td>\n",
       "      <td>False</td>\n",
       "    </tr>\n",
       "    <tr>\n",
       "      <th>4</th>\n",
       "      <td>길복순</td>\n",
       "      <td>Korean</td>\n",
       "      <td>2023-02-17</td>\n",
       "      <td>33.985</td>\n",
       "      <td>6.900</td>\n",
       "      <td>39</td>\n",
       "      <td>movie</td>\n",
       "      <td>False</td>\n",
       "    </tr>\n",
       "  </tbody>\n",
       "</table>\n",
       "</div>"
      ],
      "text/plain": [
       "             original_title original_language release_date  popularity  \\\n",
       "0          Murder Mystery 2           English   2023-03-26     235.901   \n",
       "1                 Creed III           English   2023-03-01    1537.879   \n",
       "2                    Tetris           English   2023-03-15      66.661   \n",
       "3  Avatar: The Way of Water           English   2022-12-14   10224.280   \n",
       "4                       길복순            Korean   2023-02-17      33.985   \n",
       "\n",
       "   vote_average  vote_count media_type  adult  \n",
       "0         6.800         187      movie  False  \n",
       "1         7.200         561      movie  False  \n",
       "2         7.700         100      movie  False  \n",
       "3         7.742        6335      movie  False  \n",
       "4         6.900          39      movie  False  "
      ]
     },
     "execution_count": 6,
     "metadata": {},
     "output_type": "execute_result"
    }
   ],
   "source": [
    "df.head()"
   ]
  },
  {
   "cell_type": "markdown",
   "id": "752f88a1-2854-4396-a34b-900cb27f02c3",
   "metadata": {},
   "source": [
    "# Getting information about our dataset to  know the  number of columns,rows, datatype and memory usage"
   ]
  },
  {
   "cell_type": "code",
   "execution_count": 7,
   "id": "fab37447-93a5-4de5-acd8-2b8cd9721891",
   "metadata": {},
   "outputs": [
    {
     "name": "stdout",
     "output_type": "stream",
     "text": [
      "<class 'pandas.core.frame.DataFrame'>\n",
      "RangeIndex: 16080 entries, 0 to 16079\n",
      "Data columns (total 8 columns):\n",
      " #   Column             Non-Null Count  Dtype  \n",
      "---  ------             --------------  -----  \n",
      " 0   original_title     12060 non-null  object \n",
      " 1   original_language  16080 non-null  object \n",
      " 2   release_date       12060 non-null  object \n",
      " 3   popularity         16080 non-null  float64\n",
      " 4   vote_average       16080 non-null  float64\n",
      " 5   vote_count         16080 non-null  int64  \n",
      " 6   media_type         16080 non-null  object \n",
      " 7   adult              16080 non-null  bool   \n",
      "dtypes: bool(1), float64(2), int64(1), object(4)\n",
      "memory usage: 895.2+ KB\n"
     ]
    }
   ],
   "source": [
    "df.info()"
   ]
  },
  {
   "cell_type": "code",
   "execution_count": 8,
   "id": "6c9be01f-6bb5-4151-a9bd-f4b29abdd553",
   "metadata": {},
   "outputs": [
    {
     "data": {
      "text/plain": [
       "0    2023-03-26\n",
       "1    2023-03-01\n",
       "2    2023-03-15\n",
       "3    2022-12-14\n",
       "4    2023-02-17\n",
       "Name: release_date, dtype: object"
      ]
     },
     "execution_count": 8,
     "metadata": {},
     "output_type": "execute_result"
    }
   ],
   "source": [
    "df['release_date'].head()"
   ]
  },
  {
   "cell_type": "code",
   "execution_count": 9,
   "id": "3e418f8f-2f0d-4b82-8b95-f899f4daf7da",
   "metadata": {},
   "outputs": [
    {
     "data": {
      "text/plain": [
       "2023-03-26    804\n",
       "2023-03-01    804\n",
       "2023-03-15    804\n",
       "2022-12-14    804\n",
       "2023-02-17    804\n",
       "2023-03-22    804\n",
       "2023-03-23    804\n",
       "2023-03-30    804\n",
       "2023-01-05    804\n",
       "2019-05-25    804\n",
       "2023-03-17    804\n",
       "2023-01-04    804\n",
       "2023-03-31    804\n",
       "2023-03-09    804\n",
       "2023-04-06    804\n",
       "Name: release_date, dtype: int64"
      ]
     },
     "execution_count": 9,
     "metadata": {},
     "output_type": "execute_result"
    }
   ],
   "source": [
    "df['release_date'] = pd.to_datetime(df['release_date'], format=\"%Y-%m-%d\")\n",
    "df['release_date'].value_counts()"
   ]
  },
  {
   "cell_type": "code",
   "execution_count": 10,
   "id": "5568b144-2eb1-40f6-b28f-36023bab35d7",
   "metadata": {},
   "outputs": [
    {
     "data": {
      "text/plain": [
       "128640"
      ]
     },
     "execution_count": 10,
     "metadata": {},
     "output_type": "execute_result"
    }
   ],
   "source": [
    "df.size"
   ]
  },
  {
   "cell_type": "markdown",
   "id": "ebd8ff71-73a4-4de2-bae1-90d1dfcea8ea",
   "metadata": {},
   "source": [
    "## To know the number of Rows and Columns 0, 1"
   ]
  },
  {
   "cell_type": "code",
   "execution_count": 11,
   "id": "918ec331-e6e4-48eb-a895-89d7eee45270",
   "metadata": {},
   "outputs": [
    {
     "data": {
      "text/plain": [
       "(16080, 8)"
      ]
     },
     "execution_count": 11,
     "metadata": {},
     "output_type": "execute_result"
    }
   ],
   "source": [
    "df.shape"
   ]
  },
  {
   "cell_type": "code",
   "execution_count": 12,
   "id": "05e315fc-87f4-4227-98e5-eeb97fc5324e",
   "metadata": {},
   "outputs": [
    {
     "data": {
      "text/html": [
       "<div>\n",
       "<style scoped>\n",
       "    .dataframe tbody tr th:only-of-type {\n",
       "        vertical-align: middle;\n",
       "    }\n",
       "\n",
       "    .dataframe tbody tr th {\n",
       "        vertical-align: top;\n",
       "    }\n",
       "\n",
       "    .dataframe thead th {\n",
       "        text-align: right;\n",
       "    }\n",
       "</style>\n",
       "<table border=\"1\" class=\"dataframe\">\n",
       "  <thead>\n",
       "    <tr style=\"text-align: right;\">\n",
       "      <th></th>\n",
       "      <th>count</th>\n",
       "      <th>mean</th>\n",
       "      <th>std</th>\n",
       "      <th>min</th>\n",
       "      <th>25%</th>\n",
       "      <th>50%</th>\n",
       "      <th>75%</th>\n",
       "      <th>max</th>\n",
       "    </tr>\n",
       "  </thead>\n",
       "  <tbody>\n",
       "    <tr>\n",
       "      <th>popularity</th>\n",
       "      <td>16080.0</td>\n",
       "      <td>934.26200</td>\n",
       "      <td>2229.935599</td>\n",
       "      <td>30.374</td>\n",
       "      <td>61.75025</td>\n",
       "      <td>94.859</td>\n",
       "      <td>804.05375</td>\n",
       "      <td>10224.28</td>\n",
       "    </tr>\n",
       "    <tr>\n",
       "      <th>vote_average</th>\n",
       "      <td>16080.0</td>\n",
       "      <td>7.53635</td>\n",
       "      <td>1.057306</td>\n",
       "      <td>4.800</td>\n",
       "      <td>6.87500</td>\n",
       "      <td>7.721</td>\n",
       "      <td>8.04025</td>\n",
       "      <td>10.00</td>\n",
       "    </tr>\n",
       "    <tr>\n",
       "      <th>vote_count</th>\n",
       "      <td>16080.0</td>\n",
       "      <td>1039.75000</td>\n",
       "      <td>2326.961930</td>\n",
       "      <td>3.000</td>\n",
       "      <td>9.75000</td>\n",
       "      <td>53.500</td>\n",
       "      <td>363.00000</td>\n",
       "      <td>8697.00</td>\n",
       "    </tr>\n",
       "  </tbody>\n",
       "</table>\n",
       "</div>"
      ],
      "text/plain": [
       "                count        mean          std     min       25%     50%  \\\n",
       "popularity    16080.0   934.26200  2229.935599  30.374  61.75025  94.859   \n",
       "vote_average  16080.0     7.53635     1.057306   4.800   6.87500   7.721   \n",
       "vote_count    16080.0  1039.75000  2326.961930   3.000   9.75000  53.500   \n",
       "\n",
       "                    75%       max  \n",
       "popularity    804.05375  10224.28  \n",
       "vote_average    8.04025     10.00  \n",
       "vote_count    363.00000   8697.00  "
      ]
     },
     "execution_count": 12,
     "metadata": {},
     "output_type": "execute_result"
    }
   ],
   "source": [
    "df.describe().T"
   ]
  },
  {
   "cell_type": "code",
   "execution_count": 13,
   "id": "52bf489e-e7ea-4958-bcbc-efdd58874c14",
   "metadata": {},
   "outputs": [
    {
     "data": {
      "text/html": [
       "<div>\n",
       "<style scoped>\n",
       "    .dataframe tbody tr th:only-of-type {\n",
       "        vertical-align: middle;\n",
       "    }\n",
       "\n",
       "    .dataframe tbody tr th {\n",
       "        vertical-align: top;\n",
       "    }\n",
       "\n",
       "    .dataframe thead th {\n",
       "        text-align: right;\n",
       "    }\n",
       "</style>\n",
       "<table border=\"1\" class=\"dataframe\">\n",
       "  <thead>\n",
       "    <tr style=\"text-align: right;\">\n",
       "      <th></th>\n",
       "      <th>count</th>\n",
       "      <th>unique</th>\n",
       "      <th>top</th>\n",
       "      <th>freq</th>\n",
       "    </tr>\n",
       "  </thead>\n",
       "  <tbody>\n",
       "    <tr>\n",
       "      <th>original_title</th>\n",
       "      <td>12060</td>\n",
       "      <td>15</td>\n",
       "      <td>Murder Mystery 2</td>\n",
       "      <td>804</td>\n",
       "    </tr>\n",
       "    <tr>\n",
       "      <th>original_language</th>\n",
       "      <td>16080</td>\n",
       "      <td>5</td>\n",
       "      <td>English</td>\n",
       "      <td>12060</td>\n",
       "    </tr>\n",
       "    <tr>\n",
       "      <th>media_type</th>\n",
       "      <td>16080</td>\n",
       "      <td>2</td>\n",
       "      <td>movie</td>\n",
       "      <td>12060</td>\n",
       "    </tr>\n",
       "  </tbody>\n",
       "</table>\n",
       "</div>"
      ],
      "text/plain": [
       "                   count unique               top   freq\n",
       "original_title     12060     15  Murder Mystery 2    804\n",
       "original_language  16080      5           English  12060\n",
       "media_type         16080      2             movie  12060"
      ]
     },
     "execution_count": 13,
     "metadata": {},
     "output_type": "execute_result"
    }
   ],
   "source": [
    "df.describe(include=['object']).T"
   ]
  },
  {
   "cell_type": "markdown",
   "id": "7da7afb7-f40c-4a4f-88e6-621ad9da8bbb",
   "metadata": {},
   "source": [
    "## Check missing value in our dataset"
   ]
  },
  {
   "cell_type": "code",
   "execution_count": 14,
   "id": "086bda0f-e8cd-464b-8f5b-ad60808a5524",
   "metadata": {},
   "outputs": [
    {
     "name": "stdout",
     "output_type": "stream",
     "text": [
      "Any missing value? True\n"
     ]
    }
   ],
   "source": [
    "print(\"Any missing value?\",df.isnull().values.any())"
   ]
  },
  {
   "cell_type": "code",
   "execution_count": 15,
   "id": "b966d05e-d4d8-4121-85e9-a92ecb0c32cd",
   "metadata": {},
   "outputs": [
    {
     "data": {
      "text/plain": [
       "original_title       4020\n",
       "original_language       0\n",
       "release_date         4020\n",
       "popularity              0\n",
       "vote_average            0\n",
       "vote_count              0\n",
       "media_type              0\n",
       "adult                   0\n",
       "dtype: int64"
      ]
     },
     "execution_count": 15,
     "metadata": {},
     "output_type": "execute_result"
    }
   ],
   "source": [
    "df.isnull().sum()"
   ]
  },
  {
   "cell_type": "markdown",
   "id": "92bc2227-77f6-4f0a-b349-1e5d487d0794",
   "metadata": {},
   "source": [
    "## To check the missing values through visualisation "
   ]
  },
  {
   "cell_type": "code",
   "execution_count": 16,
   "id": "e6a347f2-f316-4774-b1e6-b2ceafc5785a",
   "metadata": {},
   "outputs": [
    {
     "data": {
      "text/plain": [
       "<AxesSubplot: >"
      ]
     },
     "execution_count": 16,
     "metadata": {},
     "output_type": "execute_result"
    },
    {
     "data": {
      "image/png": "[encoded data removed]",
      "text/plain": [
       "<Figure size 640x480 with 2 Axes>"
      ]
     },
     "metadata": {},
     "output_type": "display_data"
    }
   ],
   "source": [
    "sns.heatmap(df.isnull())"
   ]
  },
  {
   "cell_type": "markdown",
   "id": "e95f5fea-9ea8-4d1a-a6d9-6d7755dea210",
   "metadata": {},
   "source": [
    "## To check missing value in percentage % , Per_missing = df.isnull().sum() * 100 / len(df)"
   ]
  },
  {
   "cell_type": "code",
   "execution_count": 17,
   "id": "5abed787-dbd0-4e2e-8415-ac996a84b431",
   "metadata": {},
   "outputs": [
    {
     "data": {
      "text/plain": [
       "original_title       25.0\n",
       "original_language     0.0\n",
       "release_date         25.0\n",
       "popularity            0.0\n",
       "vote_average          0.0\n",
       "vote_count            0.0\n",
       "media_type            0.0\n",
       "adult                 0.0\n",
       "dtype: float64"
      ]
     },
     "execution_count": 17,
     "metadata": {},
     "output_type": "execute_result"
    }
   ],
   "source": [
    "per_missing = df.isnull().sum() * 100 / len(df)\n",
    "\n",
    "per_missing"
   ]
  },
  {
   "cell_type": "markdown",
   "id": "c8c2c1c5-bce7-4c21-aacc-7a7be5b89d37",
   "metadata": {},
   "source": [
    "#### I realised that  25% are missing in both \"Original_title\" and \"Release_date\""
   ]
  },
  {
   "cell_type": "markdown",
   "id": "59f27797-c8af-4f74-a4ca-c7ac2ab6192d",
   "metadata": {},
   "source": [
    "## I want to drop all the missing values"
   ]
  },
  {
   "cell_type": "code",
   "execution_count": 18,
   "id": "5c5f2a62-d6fd-49d2-aaa4-b952299373a2",
   "metadata": {},
   "outputs": [
    {
     "data": {
      "text/html": [
       "<div>\n",
       "<style scoped>\n",
       "    .dataframe tbody tr th:only-of-type {\n",
       "        vertical-align: middle;\n",
       "    }\n",
       "\n",
       "    .dataframe tbody tr th {\n",
       "        vertical-align: top;\n",
       "    }\n",
       "\n",
       "    .dataframe thead th {\n",
       "        text-align: right;\n",
       "    }\n",
       "</style>\n",
       "<table border=\"1\" class=\"dataframe\">\n",
       "  <thead>\n",
       "    <tr style=\"text-align: right;\">\n",
       "      <th></th>\n",
       "      <th>original_title</th>\n",
       "      <th>original_language</th>\n",
       "      <th>release_date</th>\n",
       "      <th>popularity</th>\n",
       "      <th>vote_average</th>\n",
       "      <th>vote_count</th>\n",
       "      <th>media_type</th>\n",
       "      <th>adult</th>\n",
       "    </tr>\n",
       "  </thead>\n",
       "  <tbody>\n",
       "    <tr>\n",
       "      <th>0</th>\n",
       "      <td>Murder Mystery 2</td>\n",
       "      <td>English</td>\n",
       "      <td>2023-03-26</td>\n",
       "      <td>235.901</td>\n",
       "      <td>6.800</td>\n",
       "      <td>187</td>\n",
       "      <td>movie</td>\n",
       "      <td>False</td>\n",
       "    </tr>\n",
       "    <tr>\n",
       "      <th>1</th>\n",
       "      <td>Creed III</td>\n",
       "      <td>English</td>\n",
       "      <td>2023-03-01</td>\n",
       "      <td>1537.879</td>\n",
       "      <td>7.200</td>\n",
       "      <td>561</td>\n",
       "      <td>movie</td>\n",
       "      <td>False</td>\n",
       "    </tr>\n",
       "    <tr>\n",
       "      <th>2</th>\n",
       "      <td>Tetris</td>\n",
       "      <td>English</td>\n",
       "      <td>2023-03-15</td>\n",
       "      <td>66.661</td>\n",
       "      <td>7.700</td>\n",
       "      <td>100</td>\n",
       "      <td>movie</td>\n",
       "      <td>False</td>\n",
       "    </tr>\n",
       "    <tr>\n",
       "      <th>3</th>\n",
       "      <td>Avatar: The Way of Water</td>\n",
       "      <td>English</td>\n",
       "      <td>2022-12-14</td>\n",
       "      <td>10224.280</td>\n",
       "      <td>7.742</td>\n",
       "      <td>6335</td>\n",
       "      <td>movie</td>\n",
       "      <td>False</td>\n",
       "    </tr>\n",
       "    <tr>\n",
       "      <th>4</th>\n",
       "      <td>길복순</td>\n",
       "      <td>Korean</td>\n",
       "      <td>2023-02-17</td>\n",
       "      <td>33.985</td>\n",
       "      <td>6.900</td>\n",
       "      <td>39</td>\n",
       "      <td>movie</td>\n",
       "      <td>False</td>\n",
       "    </tr>\n",
       "    <tr>\n",
       "      <th>...</th>\n",
       "      <td>...</td>\n",
       "      <td>...</td>\n",
       "      <td>...</td>\n",
       "      <td>...</td>\n",
       "      <td>...</td>\n",
       "      <td>...</td>\n",
       "      <td>...</td>\n",
       "      <td>...</td>\n",
       "    </tr>\n",
       "    <tr>\n",
       "      <th>16071</th>\n",
       "      <td>Rye Lane</td>\n",
       "      <td>English</td>\n",
       "      <td>2023-03-17</td>\n",
       "      <td>30.374</td>\n",
       "      <td>7.778</td>\n",
       "      <td>18</td>\n",
       "      <td>movie</td>\n",
       "      <td>False</td>\n",
       "    </tr>\n",
       "    <tr>\n",
       "      <th>16072</th>\n",
       "      <td>Operation Fortune: Ruse de Guerre</td>\n",
       "      <td>English</td>\n",
       "      <td>2023-01-04</td>\n",
       "      <td>184.229</td>\n",
       "      <td>6.721</td>\n",
       "      <td>297</td>\n",
       "      <td>movie</td>\n",
       "      <td>False</td>\n",
       "    </tr>\n",
       "    <tr>\n",
       "      <th>16074</th>\n",
       "      <td>Assassin</td>\n",
       "      <td>English</td>\n",
       "      <td>2023-03-31</td>\n",
       "      <td>80.805</td>\n",
       "      <td>4.800</td>\n",
       "      <td>11</td>\n",
       "      <td>movie</td>\n",
       "      <td>False</td>\n",
       "    </tr>\n",
       "    <tr>\n",
       "      <th>16076</th>\n",
       "      <td>Champions</td>\n",
       "      <td>English</td>\n",
       "      <td>2023-03-09</td>\n",
       "      <td>104.315</td>\n",
       "      <td>6.512</td>\n",
       "      <td>43</td>\n",
       "      <td>movie</td>\n",
       "      <td>False</td>\n",
       "    </tr>\n",
       "    <tr>\n",
       "      <th>16078</th>\n",
       "      <td>On a Wing and a Prayer</td>\n",
       "      <td>English</td>\n",
       "      <td>2023-04-06</td>\n",
       "      <td>53.714</td>\n",
       "      <td>8.000</td>\n",
       "      <td>4</td>\n",
       "      <td>movie</td>\n",
       "      <td>False</td>\n",
       "    </tr>\n",
       "  </tbody>\n",
       "</table>\n",
       "<p>12060 rows × 8 columns</p>\n",
       "</div>"
      ],
      "text/plain": [
       "                          original_title original_language release_date  \\\n",
       "0                       Murder Mystery 2           English   2023-03-26   \n",
       "1                              Creed III           English   2023-03-01   \n",
       "2                                 Tetris           English   2023-03-15   \n",
       "3               Avatar: The Way of Water           English   2022-12-14   \n",
       "4                                    길복순            Korean   2023-02-17   \n",
       "...                                  ...               ...          ...   \n",
       "16071                           Rye Lane           English   2023-03-17   \n",
       "16072  Operation Fortune: Ruse de Guerre           English   2023-01-04   \n",
       "16074                           Assassin           English   2023-03-31   \n",
       "16076                          Champions           English   2023-03-09   \n",
       "16078             On a Wing and a Prayer           English   2023-04-06   \n",
       "\n",
       "       popularity  vote_average  vote_count media_type  adult  \n",
       "0         235.901         6.800         187      movie  False  \n",
       "1        1537.879         7.200         561      movie  False  \n",
       "2          66.661         7.700         100      movie  False  \n",
       "3       10224.280         7.742        6335      movie  False  \n",
       "4          33.985         6.900          39      movie  False  \n",
       "...           ...           ...         ...        ...    ...  \n",
       "16071      30.374         7.778          18      movie  False  \n",
       "16072     184.229         6.721         297      movie  False  \n",
       "16074      80.805         4.800          11      movie  False  \n",
       "16076     104.315         6.512          43      movie  False  \n",
       "16078      53.714         8.000           4      movie  False  \n",
       "\n",
       "[12060 rows x 8 columns]"
      ]
     },
     "execution_count": 18,
     "metadata": {},
     "output_type": "execute_result"
    }
   ],
   "source": [
    "df.dropna(axis=0)"
   ]
  },
  {
   "cell_type": "markdown",
   "id": "2a03e51b-6363-43af-abd1-f1c4fbfc2e55",
   "metadata": {},
   "source": [
    "## To check for duplicate data & if its there  we will drop it."
   ]
  },
  {
   "cell_type": "code",
   "execution_count": 19,
   "id": "efd9af1b-a885-416e-af54-120d0b8a2d02",
   "metadata": {},
   "outputs": [],
   "source": [
    "df_dup = df.duplicated().any()"
   ]
  },
  {
   "cell_type": "code",
   "execution_count": 20,
   "id": "0e2d466e-d216-43b9-9288-6973b2676764",
   "metadata": {},
   "outputs": [
    {
     "name": "stdout",
     "output_type": "stream",
     "text": [
      "are there any duplicate value? True\n"
     ]
    }
   ],
   "source": [
    "print(\"are there any duplicate value?\", df_dup)"
   ]
  },
  {
   "cell_type": "code",
   "execution_count": 21,
   "id": "68818d65-1d8a-4882-89d8-720ac2d715b4",
   "metadata": {},
   "outputs": [
    {
     "data": {
      "text/html": [
       "<div>\n",
       "<style scoped>\n",
       "    .dataframe tbody tr th:only-of-type {\n",
       "        vertical-align: middle;\n",
       "    }\n",
       "\n",
       "    .dataframe tbody tr th {\n",
       "        vertical-align: top;\n",
       "    }\n",
       "\n",
       "    .dataframe thead th {\n",
       "        text-align: right;\n",
       "    }\n",
       "</style>\n",
       "<table border=\"1\" class=\"dataframe\">\n",
       "  <thead>\n",
       "    <tr style=\"text-align: right;\">\n",
       "      <th></th>\n",
       "      <th>original_title</th>\n",
       "      <th>original_language</th>\n",
       "      <th>release_date</th>\n",
       "      <th>popularity</th>\n",
       "      <th>vote_average</th>\n",
       "      <th>vote_count</th>\n",
       "      <th>media_type</th>\n",
       "      <th>adult</th>\n",
       "    </tr>\n",
       "  </thead>\n",
       "  <tbody>\n",
       "    <tr>\n",
       "      <th>0</th>\n",
       "      <td>Murder Mystery 2</td>\n",
       "      <td>English</td>\n",
       "      <td>2023-03-26</td>\n",
       "      <td>235.901</td>\n",
       "      <td>6.800</td>\n",
       "      <td>187</td>\n",
       "      <td>movie</td>\n",
       "      <td>False</td>\n",
       "    </tr>\n",
       "    <tr>\n",
       "      <th>1</th>\n",
       "      <td>Creed III</td>\n",
       "      <td>English</td>\n",
       "      <td>2023-03-01</td>\n",
       "      <td>1537.879</td>\n",
       "      <td>7.200</td>\n",
       "      <td>561</td>\n",
       "      <td>movie</td>\n",
       "      <td>False</td>\n",
       "    </tr>\n",
       "    <tr>\n",
       "      <th>2</th>\n",
       "      <td>Tetris</td>\n",
       "      <td>English</td>\n",
       "      <td>2023-03-15</td>\n",
       "      <td>66.661</td>\n",
       "      <td>7.700</td>\n",
       "      <td>100</td>\n",
       "      <td>movie</td>\n",
       "      <td>False</td>\n",
       "    </tr>\n",
       "    <tr>\n",
       "      <th>3</th>\n",
       "      <td>Avatar: The Way of Water</td>\n",
       "      <td>English</td>\n",
       "      <td>2022-12-14</td>\n",
       "      <td>10224.280</td>\n",
       "      <td>7.742</td>\n",
       "      <td>6335</td>\n",
       "      <td>movie</td>\n",
       "      <td>False</td>\n",
       "    </tr>\n",
       "    <tr>\n",
       "      <th>4</th>\n",
       "      <td>길복순</td>\n",
       "      <td>Korean</td>\n",
       "      <td>2023-02-17</td>\n",
       "      <td>33.985</td>\n",
       "      <td>6.900</td>\n",
       "      <td>39</td>\n",
       "      <td>movie</td>\n",
       "      <td>False</td>\n",
       "    </tr>\n",
       "    <tr>\n",
       "      <th>5</th>\n",
       "      <td>John Wick: Chapter 4</td>\n",
       "      <td>English</td>\n",
       "      <td>2023-03-22</td>\n",
       "      <td>2569.508</td>\n",
       "      <td>8.161</td>\n",
       "      <td>635</td>\n",
       "      <td>movie</td>\n",
       "      <td>False</td>\n",
       "    </tr>\n",
       "    <tr>\n",
       "      <th>6</th>\n",
       "      <td>Dungeons &amp; Dragons: Honor Among Thieves</td>\n",
       "      <td>English</td>\n",
       "      <td>2023-03-23</td>\n",
       "      <td>702.523</td>\n",
       "      <td>7.598</td>\n",
       "      <td>128</td>\n",
       "      <td>movie</td>\n",
       "      <td>False</td>\n",
       "    </tr>\n",
       "    <tr>\n",
       "      <th>7</th>\n",
       "      <td>Prom Pact</td>\n",
       "      <td>English</td>\n",
       "      <td>2023-03-30</td>\n",
       "      <td>85.403</td>\n",
       "      <td>8.000</td>\n",
       "      <td>10</td>\n",
       "      <td>movie</td>\n",
       "      <td>False</td>\n",
       "    </tr>\n",
       "    <tr>\n",
       "      <th>8</th>\n",
       "      <td>NaN</td>\n",
       "      <td>English</td>\n",
       "      <td>NaT</td>\n",
       "      <td>64.625</td>\n",
       "      <td>8.000</td>\n",
       "      <td>8</td>\n",
       "      <td>tv</td>\n",
       "      <td>False</td>\n",
       "    </tr>\n",
       "    <tr>\n",
       "      <th>9</th>\n",
       "      <td>Momias</td>\n",
       "      <td>Spain</td>\n",
       "      <td>2023-01-05</td>\n",
       "      <td>1224.450</td>\n",
       "      <td>7.008</td>\n",
       "      <td>64</td>\n",
       "      <td>movie</td>\n",
       "      <td>False</td>\n",
       "    </tr>\n",
       "    <tr>\n",
       "      <th>10</th>\n",
       "      <td>Murder Mystery</td>\n",
       "      <td>English</td>\n",
       "      <td>2019-05-25</td>\n",
       "      <td>197.421</td>\n",
       "      <td>6.252</td>\n",
       "      <td>3642</td>\n",
       "      <td>movie</td>\n",
       "      <td>False</td>\n",
       "    </tr>\n",
       "    <tr>\n",
       "      <th>11</th>\n",
       "      <td>Rye Lane</td>\n",
       "      <td>English</td>\n",
       "      <td>2023-03-17</td>\n",
       "      <td>30.374</td>\n",
       "      <td>7.778</td>\n",
       "      <td>18</td>\n",
       "      <td>movie</td>\n",
       "      <td>False</td>\n",
       "    </tr>\n",
       "    <tr>\n",
       "      <th>12</th>\n",
       "      <td>Operation Fortune: Ruse de Guerre</td>\n",
       "      <td>English</td>\n",
       "      <td>2023-01-04</td>\n",
       "      <td>184.229</td>\n",
       "      <td>6.721</td>\n",
       "      <td>297</td>\n",
       "      <td>movie</td>\n",
       "      <td>False</td>\n",
       "    </tr>\n",
       "    <tr>\n",
       "      <th>13</th>\n",
       "      <td>NaN</td>\n",
       "      <td>Chinese</td>\n",
       "      <td>NaT</td>\n",
       "      <td>58.304</td>\n",
       "      <td>8.400</td>\n",
       "      <td>9</td>\n",
       "      <td>tv</td>\n",
       "      <td>False</td>\n",
       "    </tr>\n",
       "    <tr>\n",
       "      <th>14</th>\n",
       "      <td>Assassin</td>\n",
       "      <td>English</td>\n",
       "      <td>2023-03-31</td>\n",
       "      <td>80.805</td>\n",
       "      <td>4.800</td>\n",
       "      <td>11</td>\n",
       "      <td>movie</td>\n",
       "      <td>False</td>\n",
       "    </tr>\n",
       "    <tr>\n",
       "      <th>15</th>\n",
       "      <td>NaN</td>\n",
       "      <td>Japanese</td>\n",
       "      <td>NaT</td>\n",
       "      <td>62.392</td>\n",
       "      <td>10.000</td>\n",
       "      <td>4</td>\n",
       "      <td>tv</td>\n",
       "      <td>False</td>\n",
       "    </tr>\n",
       "    <tr>\n",
       "      <th>16</th>\n",
       "      <td>Champions</td>\n",
       "      <td>English</td>\n",
       "      <td>2023-03-09</td>\n",
       "      <td>104.315</td>\n",
       "      <td>6.512</td>\n",
       "      <td>43</td>\n",
       "      <td>movie</td>\n",
       "      <td>False</td>\n",
       "    </tr>\n",
       "    <tr>\n",
       "      <th>17</th>\n",
       "      <td>NaN</td>\n",
       "      <td>Japanese</td>\n",
       "      <td>NaT</td>\n",
       "      <td>59.825</td>\n",
       "      <td>8.667</td>\n",
       "      <td>3</td>\n",
       "      <td>tv</td>\n",
       "      <td>False</td>\n",
       "    </tr>\n",
       "    <tr>\n",
       "      <th>18</th>\n",
       "      <td>On a Wing and a Prayer</td>\n",
       "      <td>English</td>\n",
       "      <td>2023-04-06</td>\n",
       "      <td>53.714</td>\n",
       "      <td>8.000</td>\n",
       "      <td>4</td>\n",
       "      <td>movie</td>\n",
       "      <td>False</td>\n",
       "    </tr>\n",
       "    <tr>\n",
       "      <th>19</th>\n",
       "      <td>NaN</td>\n",
       "      <td>English</td>\n",
       "      <td>NaT</td>\n",
       "      <td>1108.646</td>\n",
       "      <td>8.488</td>\n",
       "      <td>8697</td>\n",
       "      <td>tv</td>\n",
       "      <td>False</td>\n",
       "    </tr>\n",
       "  </tbody>\n",
       "</table>\n",
       "</div>"
      ],
      "text/plain": [
       "                             original_title original_language release_date  \\\n",
       "0                          Murder Mystery 2           English   2023-03-26   \n",
       "1                                 Creed III           English   2023-03-01   \n",
       "2                                    Tetris           English   2023-03-15   \n",
       "3                  Avatar: The Way of Water           English   2022-12-14   \n",
       "4                                       길복순            Korean   2023-02-17   \n",
       "5                      John Wick: Chapter 4           English   2023-03-22   \n",
       "6   Dungeons & Dragons: Honor Among Thieves           English   2023-03-23   \n",
       "7                                 Prom Pact           English   2023-03-30   \n",
       "8                                       NaN           English          NaT   \n",
       "9                                    Momias             Spain   2023-01-05   \n",
       "10                           Murder Mystery           English   2019-05-25   \n",
       "11                                 Rye Lane           English   2023-03-17   \n",
       "12        Operation Fortune: Ruse de Guerre           English   2023-01-04   \n",
       "13                                      NaN           Chinese          NaT   \n",
       "14                                 Assassin           English   2023-03-31   \n",
       "15                                      NaN          Japanese          NaT   \n",
       "16                                Champions           English   2023-03-09   \n",
       "17                                      NaN          Japanese          NaT   \n",
       "18                   On a Wing and a Prayer           English   2023-04-06   \n",
       "19                                      NaN           English          NaT   \n",
       "\n",
       "    popularity  vote_average  vote_count media_type  adult  \n",
       "0      235.901         6.800         187      movie  False  \n",
       "1     1537.879         7.200         561      movie  False  \n",
       "2       66.661         7.700         100      movie  False  \n",
       "3    10224.280         7.742        6335      movie  False  \n",
       "4       33.985         6.900          39      movie  False  \n",
       "5     2569.508         8.161         635      movie  False  \n",
       "6      702.523         7.598         128      movie  False  \n",
       "7       85.403         8.000          10      movie  False  \n",
       "8       64.625         8.000           8         tv  False  \n",
       "9     1224.450         7.008          64      movie  False  \n",
       "10     197.421         6.252        3642      movie  False  \n",
       "11      30.374         7.778          18      movie  False  \n",
       "12     184.229         6.721         297      movie  False  \n",
       "13      58.304         8.400           9         tv  False  \n",
       "14      80.805         4.800          11      movie  False  \n",
       "15      62.392        10.000           4         tv  False  \n",
       "16     104.315         6.512          43      movie  False  \n",
       "17      59.825         8.667           3         tv  False  \n",
       "18      53.714         8.000           4      movie  False  \n",
       "19    1108.646         8.488        8697         tv  False  "
      ]
     },
     "execution_count": 21,
     "metadata": {},
     "output_type": "execute_result"
    }
   ],
   "source": [
    "df = df.drop_duplicates()\n",
    "df"
   ]
  },
  {
   "cell_type": "markdown",
   "id": "6b461880-ef9c-4971-a318-a81f3d03e643",
   "metadata": {},
   "source": [
    "## Get overall statistics about the dataframe"
   ]
  },
  {
   "cell_type": "code",
   "execution_count": 22,
   "id": "809027ac-1633-403d-9f65-339707e6777a",
   "metadata": {},
   "outputs": [
    {
     "name": "stderr",
     "output_type": "stream",
     "text": [
      "C:\\Users\\Best\\AppData\\Local\\Temp\\ipykernel_14504\\1985922364.py:1: FutureWarning: Treating datetime data as categorical rather than numeric in `.describe` is deprecated and will be removed in a future version of pandas. Specify `datetime_is_numeric=True` to silence this warning and adopt the future behavior now.\n",
      "  df.describe(include=\"all\")\n"
     ]
    },
    {
     "data": {
      "text/html": [
       "<div>\n",
       "<style scoped>\n",
       "    .dataframe tbody tr th:only-of-type {\n",
       "        vertical-align: middle;\n",
       "    }\n",
       "\n",
       "    .dataframe tbody tr th {\n",
       "        vertical-align: top;\n",
       "    }\n",
       "\n",
       "    .dataframe thead th {\n",
       "        text-align: right;\n",
       "    }\n",
       "</style>\n",
       "<table border=\"1\" class=\"dataframe\">\n",
       "  <thead>\n",
       "    <tr style=\"text-align: right;\">\n",
       "      <th></th>\n",
       "      <th>original_title</th>\n",
       "      <th>original_language</th>\n",
       "      <th>release_date</th>\n",
       "      <th>popularity</th>\n",
       "      <th>vote_average</th>\n",
       "      <th>vote_count</th>\n",
       "      <th>media_type</th>\n",
       "      <th>adult</th>\n",
       "    </tr>\n",
       "  </thead>\n",
       "  <tbody>\n",
       "    <tr>\n",
       "      <th>count</th>\n",
       "      <td>15</td>\n",
       "      <td>20</td>\n",
       "      <td>15</td>\n",
       "      <td>20.00000</td>\n",
       "      <td>20.000000</td>\n",
       "      <td>20.00000</td>\n",
       "      <td>20</td>\n",
       "      <td>20</td>\n",
       "    </tr>\n",
       "    <tr>\n",
       "      <th>unique</th>\n",
       "      <td>15</td>\n",
       "      <td>5</td>\n",
       "      <td>15</td>\n",
       "      <td>NaN</td>\n",
       "      <td>NaN</td>\n",
       "      <td>NaN</td>\n",
       "      <td>2</td>\n",
       "      <td>1</td>\n",
       "    </tr>\n",
       "    <tr>\n",
       "      <th>top</th>\n",
       "      <td>Murder Mystery 2</td>\n",
       "      <td>English</td>\n",
       "      <td>2023-03-26 00:00:00</td>\n",
       "      <td>NaN</td>\n",
       "      <td>NaN</td>\n",
       "      <td>NaN</td>\n",
       "      <td>movie</td>\n",
       "      <td>False</td>\n",
       "    </tr>\n",
       "    <tr>\n",
       "      <th>freq</th>\n",
       "      <td>1</td>\n",
       "      <td>15</td>\n",
       "      <td>1</td>\n",
       "      <td>NaN</td>\n",
       "      <td>NaN</td>\n",
       "      <td>NaN</td>\n",
       "      <td>15</td>\n",
       "      <td>20</td>\n",
       "    </tr>\n",
       "    <tr>\n",
       "      <th>first</th>\n",
       "      <td>NaN</td>\n",
       "      <td>NaN</td>\n",
       "      <td>2019-05-25 00:00:00</td>\n",
       "      <td>NaN</td>\n",
       "      <td>NaN</td>\n",
       "      <td>NaN</td>\n",
       "      <td>NaN</td>\n",
       "      <td>NaN</td>\n",
       "    </tr>\n",
       "    <tr>\n",
       "      <th>last</th>\n",
       "      <td>NaN</td>\n",
       "      <td>NaN</td>\n",
       "      <td>2023-04-06 00:00:00</td>\n",
       "      <td>NaN</td>\n",
       "      <td>NaN</td>\n",
       "      <td>NaN</td>\n",
       "      <td>NaN</td>\n",
       "      <td>NaN</td>\n",
       "    </tr>\n",
       "    <tr>\n",
       "      <th>mean</th>\n",
       "      <td>NaN</td>\n",
       "      <td>NaN</td>\n",
       "      <td>NaN</td>\n",
       "      <td>934.26200</td>\n",
       "      <td>7.536350</td>\n",
       "      <td>1039.75000</td>\n",
       "      <td>NaN</td>\n",
       "      <td>NaN</td>\n",
       "    </tr>\n",
       "    <tr>\n",
       "      <th>std</th>\n",
       "      <td>NaN</td>\n",
       "      <td>NaN</td>\n",
       "      <td>NaN</td>\n",
       "      <td>2287.79451</td>\n",
       "      <td>1.084739</td>\n",
       "      <td>2387.33833</td>\n",
       "      <td>NaN</td>\n",
       "      <td>NaN</td>\n",
       "    </tr>\n",
       "    <tr>\n",
       "      <th>min</th>\n",
       "      <td>NaN</td>\n",
       "      <td>NaN</td>\n",
       "      <td>NaN</td>\n",
       "      <td>30.37400</td>\n",
       "      <td>4.800000</td>\n",
       "      <td>3.00000</td>\n",
       "      <td>NaN</td>\n",
       "      <td>NaN</td>\n",
       "    </tr>\n",
       "    <tr>\n",
       "      <th>25%</th>\n",
       "      <td>NaN</td>\n",
       "      <td>NaN</td>\n",
       "      <td>NaN</td>\n",
       "      <td>61.75025</td>\n",
       "      <td>6.875000</td>\n",
       "      <td>9.75000</td>\n",
       "      <td>NaN</td>\n",
       "      <td>NaN</td>\n",
       "    </tr>\n",
       "    <tr>\n",
       "      <th>50%</th>\n",
       "      <td>NaN</td>\n",
       "      <td>NaN</td>\n",
       "      <td>NaN</td>\n",
       "      <td>94.85900</td>\n",
       "      <td>7.721000</td>\n",
       "      <td>53.50000</td>\n",
       "      <td>NaN</td>\n",
       "      <td>NaN</td>\n",
       "    </tr>\n",
       "    <tr>\n",
       "      <th>75%</th>\n",
       "      <td>NaN</td>\n",
       "      <td>NaN</td>\n",
       "      <td>NaN</td>\n",
       "      <td>804.05375</td>\n",
       "      <td>8.040250</td>\n",
       "      <td>363.00000</td>\n",
       "      <td>NaN</td>\n",
       "      <td>NaN</td>\n",
       "    </tr>\n",
       "    <tr>\n",
       "      <th>max</th>\n",
       "      <td>NaN</td>\n",
       "      <td>NaN</td>\n",
       "      <td>NaN</td>\n",
       "      <td>10224.28000</td>\n",
       "      <td>10.000000</td>\n",
       "      <td>8697.00000</td>\n",
       "      <td>NaN</td>\n",
       "      <td>NaN</td>\n",
       "    </tr>\n",
       "  </tbody>\n",
       "</table>\n",
       "</div>"
      ],
      "text/plain": [
       "          original_title original_language         release_date   popularity  \\\n",
       "count                 15                20                   15     20.00000   \n",
       "unique                15                 5                   15          NaN   \n",
       "top     Murder Mystery 2           English  2023-03-26 00:00:00          NaN   \n",
       "freq                   1                15                    1          NaN   \n",
       "first                NaN               NaN  2019-05-25 00:00:00          NaN   \n",
       "last                 NaN               NaN  2023-04-06 00:00:00          NaN   \n",
       "mean                 NaN               NaN                  NaN    934.26200   \n",
       "std                  NaN               NaN                  NaN   2287.79451   \n",
       "min                  NaN               NaN                  NaN     30.37400   \n",
       "25%                  NaN               NaN                  NaN     61.75025   \n",
       "50%                  NaN               NaN                  NaN     94.85900   \n",
       "75%                  NaN               NaN                  NaN    804.05375   \n",
       "max                  NaN               NaN                  NaN  10224.28000   \n",
       "\n",
       "        vote_average  vote_count media_type  adult  \n",
       "count      20.000000    20.00000         20     20  \n",
       "unique           NaN         NaN          2      1  \n",
       "top              NaN         NaN      movie  False  \n",
       "freq             NaN         NaN         15     20  \n",
       "first            NaN         NaN        NaN    NaN  \n",
       "last             NaN         NaN        NaN    NaN  \n",
       "mean        7.536350  1039.75000        NaN    NaN  \n",
       "std         1.084739  2387.33833        NaN    NaN  \n",
       "min         4.800000     3.00000        NaN    NaN  \n",
       "25%         6.875000     9.75000        NaN    NaN  \n",
       "50%         7.721000    53.50000        NaN    NaN  \n",
       "75%         8.040250   363.00000        NaN    NaN  \n",
       "max        10.000000  8697.00000        NaN    NaN  "
      ]
     },
     "execution_count": 22,
     "metadata": {},
     "output_type": "execute_result"
    }
   ],
   "source": [
    "df.describe(include=\"all\")"
   ]
  },
  {
   "cell_type": "code",
   "execution_count": 23,
   "id": "d283efb3-a1d0-48db-b4d1-55c1233581c3",
   "metadata": {},
   "outputs": [
    {
     "name": "stderr",
     "output_type": "stream",
     "text": [
      "C:\\Users\\Best\\AppData\\Local\\Temp\\ipykernel_14504\\3091660646.py:1: FutureWarning: Treating datetime data as categorical rather than numeric in `.describe` is deprecated and will be removed in a future version of pandas. Specify `datetime_is_numeric=True` to silence this warning and adopt the future behavior now.\n",
      "  df.describe(include=\"all\").T\n"
     ]
    },
    {
     "data": {
      "text/html": [
       "<div>\n",
       "<style scoped>\n",
       "    .dataframe tbody tr th:only-of-type {\n",
       "        vertical-align: middle;\n",
       "    }\n",
       "\n",
       "    .dataframe tbody tr th {\n",
       "        vertical-align: top;\n",
       "    }\n",
       "\n",
       "    .dataframe thead th {\n",
       "        text-align: right;\n",
       "    }\n",
       "</style>\n",
       "<table border=\"1\" class=\"dataframe\">\n",
       "  <thead>\n",
       "    <tr style=\"text-align: right;\">\n",
       "      <th></th>\n",
       "      <th>count</th>\n",
       "      <th>unique</th>\n",
       "      <th>top</th>\n",
       "      <th>freq</th>\n",
       "      <th>first</th>\n",
       "      <th>last</th>\n",
       "      <th>mean</th>\n",
       "      <th>std</th>\n",
       "      <th>min</th>\n",
       "      <th>25%</th>\n",
       "      <th>50%</th>\n",
       "      <th>75%</th>\n",
       "      <th>max</th>\n",
       "    </tr>\n",
       "  </thead>\n",
       "  <tbody>\n",
       "    <tr>\n",
       "      <th>original_title</th>\n",
       "      <td>15</td>\n",
       "      <td>15</td>\n",
       "      <td>Murder Mystery 2</td>\n",
       "      <td>1</td>\n",
       "      <td>NaT</td>\n",
       "      <td>NaT</td>\n",
       "      <td>NaN</td>\n",
       "      <td>NaN</td>\n",
       "      <td>NaN</td>\n",
       "      <td>NaN</td>\n",
       "      <td>NaN</td>\n",
       "      <td>NaN</td>\n",
       "      <td>NaN</td>\n",
       "    </tr>\n",
       "    <tr>\n",
       "      <th>original_language</th>\n",
       "      <td>20</td>\n",
       "      <td>5</td>\n",
       "      <td>English</td>\n",
       "      <td>15</td>\n",
       "      <td>NaT</td>\n",
       "      <td>NaT</td>\n",
       "      <td>NaN</td>\n",
       "      <td>NaN</td>\n",
       "      <td>NaN</td>\n",
       "      <td>NaN</td>\n",
       "      <td>NaN</td>\n",
       "      <td>NaN</td>\n",
       "      <td>NaN</td>\n",
       "    </tr>\n",
       "    <tr>\n",
       "      <th>release_date</th>\n",
       "      <td>15</td>\n",
       "      <td>15</td>\n",
       "      <td>2023-03-26 00:00:00</td>\n",
       "      <td>1</td>\n",
       "      <td>2019-05-25</td>\n",
       "      <td>2023-04-06</td>\n",
       "      <td>NaN</td>\n",
       "      <td>NaN</td>\n",
       "      <td>NaN</td>\n",
       "      <td>NaN</td>\n",
       "      <td>NaN</td>\n",
       "      <td>NaN</td>\n",
       "      <td>NaN</td>\n",
       "    </tr>\n",
       "    <tr>\n",
       "      <th>popularity</th>\n",
       "      <td>20.0</td>\n",
       "      <td>NaN</td>\n",
       "      <td>NaN</td>\n",
       "      <td>NaN</td>\n",
       "      <td>NaT</td>\n",
       "      <td>NaT</td>\n",
       "      <td>934.262</td>\n",
       "      <td>2287.79451</td>\n",
       "      <td>30.374</td>\n",
       "      <td>61.75025</td>\n",
       "      <td>94.859</td>\n",
       "      <td>804.05375</td>\n",
       "      <td>10224.28</td>\n",
       "    </tr>\n",
       "    <tr>\n",
       "      <th>vote_average</th>\n",
       "      <td>20.0</td>\n",
       "      <td>NaN</td>\n",
       "      <td>NaN</td>\n",
       "      <td>NaN</td>\n",
       "      <td>NaT</td>\n",
       "      <td>NaT</td>\n",
       "      <td>7.53635</td>\n",
       "      <td>1.084739</td>\n",
       "      <td>4.8</td>\n",
       "      <td>6.875</td>\n",
       "      <td>7.721</td>\n",
       "      <td>8.04025</td>\n",
       "      <td>10.0</td>\n",
       "    </tr>\n",
       "    <tr>\n",
       "      <th>vote_count</th>\n",
       "      <td>20.0</td>\n",
       "      <td>NaN</td>\n",
       "      <td>NaN</td>\n",
       "      <td>NaN</td>\n",
       "      <td>NaT</td>\n",
       "      <td>NaT</td>\n",
       "      <td>1039.75</td>\n",
       "      <td>2387.33833</td>\n",
       "      <td>3.0</td>\n",
       "      <td>9.75</td>\n",
       "      <td>53.5</td>\n",
       "      <td>363.0</td>\n",
       "      <td>8697.0</td>\n",
       "    </tr>\n",
       "    <tr>\n",
       "      <th>media_type</th>\n",
       "      <td>20</td>\n",
       "      <td>2</td>\n",
       "      <td>movie</td>\n",
       "      <td>15</td>\n",
       "      <td>NaT</td>\n",
       "      <td>NaT</td>\n",
       "      <td>NaN</td>\n",
       "      <td>NaN</td>\n",
       "      <td>NaN</td>\n",
       "      <td>NaN</td>\n",
       "      <td>NaN</td>\n",
       "      <td>NaN</td>\n",
       "      <td>NaN</td>\n",
       "    </tr>\n",
       "    <tr>\n",
       "      <th>adult</th>\n",
       "      <td>20</td>\n",
       "      <td>1</td>\n",
       "      <td>False</td>\n",
       "      <td>20</td>\n",
       "      <td>NaT</td>\n",
       "      <td>NaT</td>\n",
       "      <td>NaN</td>\n",
       "      <td>NaN</td>\n",
       "      <td>NaN</td>\n",
       "      <td>NaN</td>\n",
       "      <td>NaN</td>\n",
       "      <td>NaN</td>\n",
       "      <td>NaN</td>\n",
       "    </tr>\n",
       "  </tbody>\n",
       "</table>\n",
       "</div>"
      ],
      "text/plain": [
       "                  count unique                  top freq      first  \\\n",
       "original_title       15     15     Murder Mystery 2    1        NaT   \n",
       "original_language    20      5              English   15        NaT   \n",
       "release_date         15     15  2023-03-26 00:00:00    1 2019-05-25   \n",
       "popularity         20.0    NaN                  NaN  NaN        NaT   \n",
       "vote_average       20.0    NaN                  NaN  NaN        NaT   \n",
       "vote_count         20.0    NaN                  NaN  NaN        NaT   \n",
       "media_type           20      2                movie   15        NaT   \n",
       "adult                20      1                False   20        NaT   \n",
       "\n",
       "                        last     mean         std     min       25%     50%  \\\n",
       "original_title           NaT      NaN         NaN     NaN       NaN     NaN   \n",
       "original_language        NaT      NaN         NaN     NaN       NaN     NaN   \n",
       "release_date      2023-04-06      NaN         NaN     NaN       NaN     NaN   \n",
       "popularity               NaT  934.262  2287.79451  30.374  61.75025  94.859   \n",
       "vote_average             NaT  7.53635    1.084739     4.8     6.875   7.721   \n",
       "vote_count               NaT  1039.75  2387.33833     3.0      9.75    53.5   \n",
       "media_type               NaT      NaN         NaN     NaN       NaN     NaN   \n",
       "adult                    NaT      NaN         NaN     NaN       NaN     NaN   \n",
       "\n",
       "                         75%       max  \n",
       "original_title           NaN       NaN  \n",
       "original_language        NaN       NaN  \n",
       "release_date             NaN       NaN  \n",
       "popularity         804.05375  10224.28  \n",
       "vote_average         8.04025      10.0  \n",
       "vote_count             363.0    8697.0  \n",
       "media_type               NaN       NaN  \n",
       "adult                    NaN       NaN  "
      ]
     },
     "execution_count": 23,
     "metadata": {},
     "output_type": "execute_result"
    }
   ],
   "source": [
    "df.describe(include=\"all\").T"
   ]
  },
  {
   "cell_type": "code",
   "execution_count": 24,
   "id": "d63e6ef9-2fea-406c-81c2-047b416a2c4e",
   "metadata": {},
   "outputs": [
    {
     "data": {
      "text/plain": [
       "Index(['original_title', 'original_language', 'release_date', 'popularity',\n",
       "       'vote_average', 'vote_count', 'media_type', 'adult'],\n",
       "      dtype='object')"
      ]
     },
     "execution_count": 24,
     "metadata": {},
     "output_type": "execute_result"
    }
   ],
   "source": [
    "df.columns"
   ]
  },
  {
   "cell_type": "code",
   "execution_count": 25,
   "id": "b6bffdf3-f630-4cd0-b1e5-79cef4f0a93c",
   "metadata": {},
   "outputs": [],
   "source": [
    "df[\"original_title\"].fillna('unknown', inplace=True)"
   ]
  },
  {
   "cell_type": "code",
   "execution_count": 26,
   "id": "9426f76f-aa68-48d3-8684-1ff7ab9df556",
   "metadata": {},
   "outputs": [
    {
     "data": {
      "text/plain": [
       "array(['Murder Mystery 2', 'Creed III', 'Tetris',\n",
       "       'Avatar: The Way of Water', '길복순', 'John Wick: Chapter 4',\n",
       "       'Dungeons & Dragons: Honor Among Thieves', 'Prom Pact', 'unknown',\n",
       "       'Momias', 'Murder Mystery', 'Rye Lane',\n",
       "       'Operation Fortune: Ruse de Guerre', 'Assassin', 'Champions',\n",
       "       'On a Wing and a Prayer'], dtype=object)"
      ]
     },
     "execution_count": 26,
     "metadata": {},
     "output_type": "execute_result"
    }
   ],
   "source": [
    "df[\"original_title\"].unique()"
   ]
  },
  {
   "cell_type": "code",
   "execution_count": 27,
   "id": "c42a1a0f-922b-4751-a074-747795274b99",
   "metadata": {},
   "outputs": [
    {
     "data": {
      "text/plain": [
       "unknown                                    5\n",
       "Murder Mystery 2                           1\n",
       "Creed III                                  1\n",
       "Tetris                                     1\n",
       "Avatar: The Way of Water                   1\n",
       "길복순                                        1\n",
       "John Wick: Chapter 4                       1\n",
       "Dungeons & Dragons: Honor Among Thieves    1\n",
       "Prom Pact                                  1\n",
       "Momias                                     1\n",
       "Murder Mystery                             1\n",
       "Rye Lane                                   1\n",
       "Operation Fortune: Ruse de Guerre          1\n",
       "Assassin                                   1\n",
       "Champions                                  1\n",
       "On a Wing and a Prayer                     1\n",
       "Name: original_title, dtype: int64"
      ]
     },
     "execution_count": 27,
     "metadata": {},
     "output_type": "execute_result"
    }
   ],
   "source": [
    "df[\"original_title\"].value_counts()"
   ]
  },
  {
   "cell_type": "markdown",
   "id": "5eda4f8b-6e2a-412f-b783-4aa6a93bd397",
   "metadata": {},
   "source": [
    "## In which year there was the highest average popularity "
   ]
  },
  {
   "cell_type": "code",
   "execution_count": 28,
   "id": "c8b3148f-9909-4154-819f-8d982c63768e",
   "metadata": {},
   "outputs": [
    {
     "data": {
      "text/plain": [
       "release_date\n",
       "2022-12-14    10224.280\n",
       "2023-03-22     2569.508\n",
       "2023-03-01     1537.879\n",
       "2023-01-05     1224.450\n",
       "2023-03-23      702.523\n",
       "2023-03-26      235.901\n",
       "2019-05-25      197.421\n",
       "2023-01-04      184.229\n",
       "2023-03-09      104.315\n",
       "2023-03-30       85.403\n",
       "2023-03-31       80.805\n",
       "2023-03-15       66.661\n",
       "2023-04-06       53.714\n",
       "2023-02-17       33.985\n",
       "2023-03-17       30.374\n",
       "Name: popularity, dtype: float64"
      ]
     },
     "execution_count": 28,
     "metadata": {},
     "output_type": "execute_result"
    }
   ],
   "source": [
    "df.groupby('release_date')[\"popularity\"].mean().sort_values(ascending=False)"
   ]
  },
  {
   "cell_type": "markdown",
   "id": "ae86df78-7189-4c23-bc8c-f530f927cc44",
   "metadata": {},
   "source": [
    "## We can visualise this"
   ]
  },
  {
   "cell_type": "code",
   "execution_count": 29,
   "id": "4d2172da-f8ee-4625-a419-df4f220ade42",
   "metadata": {},
   "outputs": [
    {
     "data": {
      "image/png": "[encoded data removed]",
      "text/plain": [
       "<Figure size 1100x500 with 1 Axes>"
      ]
     },
     "metadata": {},
     "output_type": "display_data"
    }
   ],
   "source": [
    "plt.figure(figsize = (11,5))\n",
    "plt.xticks(rotation=90)\n",
    "sns.barplot(x= df['release_date'], y= df['popularity'].astype(int))\n",
    "plt.title('poplarity vs release_date')\n",
    "plt.show()"
   ]
  },
  {
   "cell_type": "code",
   "execution_count": 30,
   "id": "1d138295-d26f-497b-8576-c2919b1b77cd",
   "metadata": {},
   "outputs": [
    {
     "data": {
      "text/plain": [
       "Index(['original_title', 'original_language', 'release_date', 'popularity',\n",
       "       'vote_average', 'vote_count', 'media_type', 'adult'],\n",
       "      dtype='object')"
      ]
     },
     "execution_count": 30,
     "metadata": {},
     "output_type": "execute_result"
    }
   ],
   "source": [
    "df.columns"
   ]
  },
  {
   "cell_type": "markdown",
   "id": "dbc93b2e-9131-47c1-becf-fdc0a3ab0a8c",
   "metadata": {},
   "source": [
    "## To find the original language and the release date"
   ]
  },
  {
   "cell_type": "code",
   "execution_count": 31,
   "id": "9e772cf2-8b5b-45b0-a51c-e7a09c6b8e65",
   "metadata": {},
   "outputs": [
    {
     "data": {
      "text/plain": [
       "original_language\n",
       "Chinese         9\n",
       "English     20676\n",
       "Japanese        7\n",
       "Korean         39\n",
       "Spain          64\n",
       "Name: vote_count, dtype: int64"
      ]
     },
     "execution_count": 31,
     "metadata": {},
     "output_type": "execute_result"
    }
   ],
   "source": [
    "df_popularity = df.groupby('original_language')['vote_count'].sum()\n",
    "df_popularity"
   ]
  },
  {
   "cell_type": "code",
   "execution_count": 32,
   "id": "031a9a9a-a9b0-4ff2-a421-e6f16c274384",
   "metadata": {},
   "outputs": [
    {
     "data": {
      "text/html": [
       "<div>\n",
       "<style scoped>\n",
       "    .dataframe tbody tr th:only-of-type {\n",
       "        vertical-align: middle;\n",
       "    }\n",
       "\n",
       "    .dataframe tbody tr th {\n",
       "        vertical-align: top;\n",
       "    }\n",
       "\n",
       "    .dataframe thead th {\n",
       "        text-align: right;\n",
       "    }\n",
       "</style>\n",
       "<table border=\"1\" class=\"dataframe\">\n",
       "  <thead>\n",
       "    <tr style=\"text-align: right;\">\n",
       "      <th></th>\n",
       "      <th>release_date</th>\n",
       "      <th>original_language</th>\n",
       "    </tr>\n",
       "  </thead>\n",
       "  <tbody>\n",
       "    <tr>\n",
       "      <th>0</th>\n",
       "      <td>2023-03-26</td>\n",
       "      <td>English</td>\n",
       "    </tr>\n",
       "    <tr>\n",
       "      <th>1</th>\n",
       "      <td>2023-03-01</td>\n",
       "      <td>English</td>\n",
       "    </tr>\n",
       "    <tr>\n",
       "      <th>2</th>\n",
       "      <td>2023-03-15</td>\n",
       "      <td>English</td>\n",
       "    </tr>\n",
       "    <tr>\n",
       "      <th>3</th>\n",
       "      <td>2022-12-14</td>\n",
       "      <td>English</td>\n",
       "    </tr>\n",
       "    <tr>\n",
       "      <th>4</th>\n",
       "      <td>2023-02-17</td>\n",
       "      <td>Korean</td>\n",
       "    </tr>\n",
       "    <tr>\n",
       "      <th>5</th>\n",
       "      <td>2023-03-22</td>\n",
       "      <td>English</td>\n",
       "    </tr>\n",
       "    <tr>\n",
       "      <th>6</th>\n",
       "      <td>2023-03-23</td>\n",
       "      <td>English</td>\n",
       "    </tr>\n",
       "    <tr>\n",
       "      <th>7</th>\n",
       "      <td>2023-03-30</td>\n",
       "      <td>English</td>\n",
       "    </tr>\n",
       "    <tr>\n",
       "      <th>8</th>\n",
       "      <td>NaT</td>\n",
       "      <td>English</td>\n",
       "    </tr>\n",
       "    <tr>\n",
       "      <th>9</th>\n",
       "      <td>2023-01-05</td>\n",
       "      <td>Spain</td>\n",
       "    </tr>\n",
       "    <tr>\n",
       "      <th>10</th>\n",
       "      <td>2019-05-25</td>\n",
       "      <td>English</td>\n",
       "    </tr>\n",
       "    <tr>\n",
       "      <th>11</th>\n",
       "      <td>2023-03-17</td>\n",
       "      <td>English</td>\n",
       "    </tr>\n",
       "    <tr>\n",
       "      <th>12</th>\n",
       "      <td>2023-01-04</td>\n",
       "      <td>English</td>\n",
       "    </tr>\n",
       "    <tr>\n",
       "      <th>13</th>\n",
       "      <td>NaT</td>\n",
       "      <td>Chinese</td>\n",
       "    </tr>\n",
       "    <tr>\n",
       "      <th>14</th>\n",
       "      <td>2023-03-31</td>\n",
       "      <td>English</td>\n",
       "    </tr>\n",
       "    <tr>\n",
       "      <th>15</th>\n",
       "      <td>NaT</td>\n",
       "      <td>Japanese</td>\n",
       "    </tr>\n",
       "    <tr>\n",
       "      <th>16</th>\n",
       "      <td>2023-03-09</td>\n",
       "      <td>English</td>\n",
       "    </tr>\n",
       "    <tr>\n",
       "      <th>17</th>\n",
       "      <td>NaT</td>\n",
       "      <td>Japanese</td>\n",
       "    </tr>\n",
       "    <tr>\n",
       "      <th>18</th>\n",
       "      <td>2023-04-06</td>\n",
       "      <td>English</td>\n",
       "    </tr>\n",
       "    <tr>\n",
       "      <th>19</th>\n",
       "      <td>NaT</td>\n",
       "      <td>English</td>\n",
       "    </tr>\n",
       "  </tbody>\n",
       "</table>\n",
       "</div>"
      ],
      "text/plain": [
       "   release_date original_language\n",
       "0    2023-03-26           English\n",
       "1    2023-03-01           English\n",
       "2    2023-03-15           English\n",
       "3    2022-12-14           English\n",
       "4    2023-02-17            Korean\n",
       "5    2023-03-22           English\n",
       "6    2023-03-23           English\n",
       "7    2023-03-30           English\n",
       "8           NaT           English\n",
       "9    2023-01-05             Spain\n",
       "10   2019-05-25           English\n",
       "11   2023-03-17           English\n",
       "12   2023-01-04           English\n",
       "13          NaT           Chinese\n",
       "14   2023-03-31           English\n",
       "15          NaT          Japanese\n",
       "16   2023-03-09           English\n",
       "17          NaT          Japanese\n",
       "18   2023-04-06           English\n",
       "19          NaT           English"
      ]
     },
     "execution_count": 32,
     "metadata": {},
     "output_type": "execute_result"
    }
   ],
   "source": [
    "df_ginal = df[['release_date', 'original_language']].copy() \n",
    "df_ginal"
   ]
  },
  {
   "cell_type": "markdown",
   "id": "546f3ceb-3ff7-4fe7-a4ad-e0c217eb53f4",
   "metadata": {},
   "source": [
    "## To visualise the most view languages "
   ]
  },
  {
   "cell_type": "code",
   "execution_count": 33,
   "id": "6617b397-cf32-4fa1-93ec-825b1fcb7f46",
   "metadata": {},
   "outputs": [
    {
     "data": {
      "image/png": "[encoded data removed]",
      "text/plain": [
       "<Figure size 640x480 with 1 Axes>"
      ]
     },
     "metadata": {},
     "output_type": "display_data"
    }
   ],
   "source": [
    "sns.countplot(x=df_ginal['original_language'])\n",
    "plt.title('original_language')\n",
    "plt.show()"
   ]
  },
  {
   "cell_type": "markdown",
   "id": "40d6e18d-18da-4a53-9e4f-fa8403235543",
   "metadata": {},
   "source": [
    "## To check the top 10 highest performing movie "
   ]
  },
  {
   "cell_type": "code",
   "execution_count": 34,
   "id": "a1a98370-a54d-4911-b3da-d955a6241158",
   "metadata": {},
   "outputs": [
    {
     "data": {
      "text/plain": [
       "Index(['original_title', 'original_language', 'release_date', 'popularity',\n",
       "       'vote_average', 'vote_count', 'media_type', 'adult'],\n",
       "      dtype='object')"
      ]
     },
     "execution_count": 34,
     "metadata": {},
     "output_type": "execute_result"
    }
   ],
   "source": [
    "df.columns"
   ]
  },
  {
   "cell_type": "code",
   "execution_count": 35,
   "id": "e2d332dd-6e83-4406-b063-218ed2818e5d",
   "metadata": {},
   "outputs": [
    {
     "data": {
      "text/html": [
       "<div>\n",
       "<style scoped>\n",
       "    .dataframe tbody tr th:only-of-type {\n",
       "        vertical-align: middle;\n",
       "    }\n",
       "\n",
       "    .dataframe tbody tr th {\n",
       "        vertical-align: top;\n",
       "    }\n",
       "\n",
       "    .dataframe thead th {\n",
       "        text-align: right;\n",
       "    }\n",
       "</style>\n",
       "<table border=\"1\" class=\"dataframe\">\n",
       "  <thead>\n",
       "    <tr style=\"text-align: right;\">\n",
       "      <th></th>\n",
       "      <th>original_title</th>\n",
       "      <th>vote_count</th>\n",
       "    </tr>\n",
       "  </thead>\n",
       "  <tbody>\n",
       "    <tr>\n",
       "      <th>19</th>\n",
       "      <td>unknown</td>\n",
       "      <td>8697</td>\n",
       "    </tr>\n",
       "    <tr>\n",
       "      <th>3</th>\n",
       "      <td>Avatar: The Way of Water</td>\n",
       "      <td>6335</td>\n",
       "    </tr>\n",
       "    <tr>\n",
       "      <th>10</th>\n",
       "      <td>Murder Mystery</td>\n",
       "      <td>3642</td>\n",
       "    </tr>\n",
       "    <tr>\n",
       "      <th>5</th>\n",
       "      <td>John Wick: Chapter 4</td>\n",
       "      <td>635</td>\n",
       "    </tr>\n",
       "    <tr>\n",
       "      <th>1</th>\n",
       "      <td>Creed III</td>\n",
       "      <td>561</td>\n",
       "    </tr>\n",
       "    <tr>\n",
       "      <th>12</th>\n",
       "      <td>Operation Fortune: Ruse de Guerre</td>\n",
       "      <td>297</td>\n",
       "    </tr>\n",
       "    <tr>\n",
       "      <th>0</th>\n",
       "      <td>Murder Mystery 2</td>\n",
       "      <td>187</td>\n",
       "    </tr>\n",
       "    <tr>\n",
       "      <th>6</th>\n",
       "      <td>Dungeons &amp; Dragons: Honor Among Thieves</td>\n",
       "      <td>128</td>\n",
       "    </tr>\n",
       "    <tr>\n",
       "      <th>2</th>\n",
       "      <td>Tetris</td>\n",
       "      <td>100</td>\n",
       "    </tr>\n",
       "    <tr>\n",
       "      <th>9</th>\n",
       "      <td>Momias</td>\n",
       "      <td>64</td>\n",
       "    </tr>\n",
       "  </tbody>\n",
       "</table>\n",
       "</div>"
      ],
      "text/plain": [
       "                             original_title  vote_count\n",
       "19                                  unknown        8697\n",
       "3                  Avatar: The Way of Water        6335\n",
       "10                           Murder Mystery        3642\n",
       "5                      John Wick: Chapter 4         635\n",
       "1                                 Creed III         561\n",
       "12        Operation Fortune: Ruse de Guerre         297\n",
       "0                          Murder Mystery 2         187\n",
       "6   Dungeons & Dragons: Honor Among Thieves         128\n",
       "2                                    Tetris         100\n",
       "9                                    Momias          64"
      ]
     },
     "execution_count": 35,
     "metadata": {},
     "output_type": "execute_result"
    }
   ],
   "source": [
    "df.nlargest(10, 'vote_count')[['original_title', 'vote_count']]"
   ]
  },
  {
   "cell_type": "code",
   "execution_count": 36,
   "id": "08fa5c0b-cf0f-43a2-8480-7cdd6414647d",
   "metadata": {},
   "outputs": [
    {
     "data": {
      "text/html": [
       "<div>\n",
       "<style scoped>\n",
       "    .dataframe tbody tr th:only-of-type {\n",
       "        vertical-align: middle;\n",
       "    }\n",
       "\n",
       "    .dataframe tbody tr th {\n",
       "        vertical-align: top;\n",
       "    }\n",
       "\n",
       "    .dataframe thead th {\n",
       "        text-align: right;\n",
       "    }\n",
       "</style>\n",
       "<table border=\"1\" class=\"dataframe\">\n",
       "  <thead>\n",
       "    <tr style=\"text-align: right;\">\n",
       "      <th></th>\n",
       "      <th>vote_count</th>\n",
       "    </tr>\n",
       "    <tr>\n",
       "      <th>original_title</th>\n",
       "      <th></th>\n",
       "    </tr>\n",
       "  </thead>\n",
       "  <tbody>\n",
       "    <tr>\n",
       "      <th>unknown</th>\n",
       "      <td>8697</td>\n",
       "    </tr>\n",
       "    <tr>\n",
       "      <th>Avatar: The Way of Water</th>\n",
       "      <td>6335</td>\n",
       "    </tr>\n",
       "    <tr>\n",
       "      <th>Murder Mystery</th>\n",
       "      <td>3642</td>\n",
       "    </tr>\n",
       "    <tr>\n",
       "      <th>John Wick: Chapter 4</th>\n",
       "      <td>635</td>\n",
       "    </tr>\n",
       "    <tr>\n",
       "      <th>Creed III</th>\n",
       "      <td>561</td>\n",
       "    </tr>\n",
       "    <tr>\n",
       "      <th>Operation Fortune: Ruse de Guerre</th>\n",
       "      <td>297</td>\n",
       "    </tr>\n",
       "    <tr>\n",
       "      <th>Murder Mystery 2</th>\n",
       "      <td>187</td>\n",
       "    </tr>\n",
       "    <tr>\n",
       "      <th>Dungeons &amp; Dragons: Honor Among Thieves</th>\n",
       "      <td>128</td>\n",
       "    </tr>\n",
       "    <tr>\n",
       "      <th>Tetris</th>\n",
       "      <td>100</td>\n",
       "    </tr>\n",
       "    <tr>\n",
       "      <th>Momias</th>\n",
       "      <td>64</td>\n",
       "    </tr>\n",
       "  </tbody>\n",
       "</table>\n",
       "</div>"
      ],
      "text/plain": [
       "                                         vote_count\n",
       "original_title                                     \n",
       "unknown                                        8697\n",
       "Avatar: The Way of Water                       6335\n",
       "Murder Mystery                                 3642\n",
       "John Wick: Chapter 4                            635\n",
       "Creed III                                       561\n",
       "Operation Fortune: Ruse de Guerre               297\n",
       "Murder Mystery 2                                187\n",
       "Dungeons & Dragons: Honor Among Thieves         128\n",
       "Tetris                                          100\n",
       "Momias                                           64"
      ]
     },
     "execution_count": 36,
     "metadata": {},
     "output_type": "execute_result"
    }
   ],
   "source": [
    "df_top10 = df.nlargest(10, 'vote_count')[['original_title', 'vote_count']]\\\n",
    ".set_index('original_title')\n",
    "df_top10"
   ]
  },
  {
   "cell_type": "code",
   "execution_count": 37,
   "id": "3822d71d-d17f-4f76-9636-23fd865e6ff0",
   "metadata": {
    "tags": []
   },
   "outputs": [
    {
     "name": "stderr",
     "output_type": "stream",
     "text": [
      "C:\\Users\\Best\\AppData\\Roaming\\Python\\Python310\\site-packages\\IPython\\core\\pylabtools.py:151: UserWarning: Glyph 44600 (\\N{HANGUL SYLLABLE GIL}) missing from current font.\n",
      "  fig.canvas.print_figure(bytes_io, **kw)\n",
      "C:\\Users\\Best\\AppData\\Roaming\\Python\\Python310\\site-packages\\IPython\\core\\pylabtools.py:151: UserWarning: Glyph 48373 (\\N{HANGUL SYLLABLE BOG}) missing from current font.\n",
      "  fig.canvas.print_figure(bytes_io, **kw)\n",
      "C:\\Users\\Best\\AppData\\Roaming\\Python\\Python310\\site-packages\\IPython\\core\\pylabtools.py:151: UserWarning: Glyph 49692 (\\N{HANGUL SYLLABLE SUN}) missing from current font.\n",
      "  fig.canvas.print_figure(bytes_io, **kw)\n"
     ]
    },
    {
     "data": {
      "image/png": "[encoded data removed]",
      "text/plain": [
       "<Figure size 640x480 with 1 Axes>"
      ]
     },
     "metadata": {},
     "output_type": "display_data"
    }
   ],
   "source": [
    "df.groupby(['original_title','vote_count']).sum().plot(kind='bar')\n",
    "plt.title('original_title') \n",
    "plt.show()"
   ]
  },
  {
   "cell_type": "code",
   "execution_count": 38,
   "id": "bfc02b8e-358d-4b66-bf5b-d8e88f55e468",
   "metadata": {},
   "outputs": [],
   "source": [
    "# Going by this discovery Avatar:The way of Water was the highest viewing followed by John  Wick"
   ]
  },
  {
   "cell_type": "code",
   "execution_count": 39,
   "id": "33025afa-8e6e-4aa4-aa31-e7ec221028f1",
   "metadata": {},
   "outputs": [
    {
     "data": {
      "text/plain": [
       "10.0"
      ]
     },
     "execution_count": 39,
     "metadata": {},
     "output_type": "execute_result"
    }
   ],
   "source": [
    "df_avg = (df['vote_average'].max())\n",
    "df_avg"
   ]
  },
  {
   "cell_type": "code",
   "execution_count": 40,
   "id": "fce15598-6386-4241-817b-d6e3610384ba",
   "metadata": {},
   "outputs": [
    {
     "data": {
      "image/png": "[encoded data removed]",
      "text/plain": [
       "<Figure size 640x480 with 1 Axes>"
      ]
     },
     "metadata": {},
     "output_type": "display_data"
    }
   ],
   "source": [
    "sns.scatterplot(data=df, x=\"vote_average\", y=\"popularity\", hue=\"original_language\", size=\"vote_count\")\n",
    "plt.title('popularity of  language')\n",
    "plt.show()"
   ]
  },
  {
   "cell_type": "code",
   "execution_count": 41,
   "id": "20c0fc5c-222a-48df-b88c-18d6d31f6ee5",
   "metadata": {},
   "outputs": [
    {
     "data": {
      "text/plain": [
       "Index(['original_title', 'original_language', 'release_date', 'popularity',\n",
       "       'vote_average', 'vote_count', 'media_type', 'adult'],\n",
       "      dtype='object')"
      ]
     },
     "execution_count": 41,
     "metadata": {},
     "output_type": "execute_result"
    }
   ],
   "source": [
    "df.columns"
   ]
  },
  {
   "cell_type": "code",
   "execution_count": 42,
   "id": "f62d8a48-aae9-4b0f-a26f-4d6979edac8d",
   "metadata": {},
   "outputs": [
    {
     "data": {
      "text/plain": [
       "array(['movie', 'tv'], dtype=object)"
      ]
     },
     "execution_count": 42,
     "metadata": {},
     "output_type": "execute_result"
    }
   ],
   "source": [
    "df['media_type'].unique()"
   ]
  },
  {
   "cell_type": "code",
   "execution_count": 43,
   "id": "2331f240-e586-4dc7-aab4-0a8cbffd277d",
   "metadata": {},
   "outputs": [
    {
     "data": {
      "text/plain": [
       "20"
      ]
     },
     "execution_count": 43,
     "metadata": {},
     "output_type": "execute_result"
    }
   ],
   "source": [
    "df['adult'].count()"
   ]
  },
  {
   "cell_type": "code",
   "execution_count": 44,
   "id": "2d406040-6f41-402a-adf0-126c082e1b4e",
   "metadata": {},
   "outputs": [
    {
     "data": {
      "image/png": "[encoded data removed]",
      "text/plain": [
       "<Figure size 640x480 with 1 Axes>"
      ]
     },
     "metadata": {},
     "output_type": "display_data"
    }
   ],
   "source": [
    "sns.countplot(x=df['adult'])\n",
    "plt.title('To count the number of Adult')\n",
    "plt.show()"
   ]
  },
  {
   "cell_type": "code",
   "execution_count": 45,
   "id": "9c8742e0-d308-4098-ae3f-00ae725ef4e8",
   "metadata": {},
   "outputs": [
    {
     "data": {
      "text/plain": [
       "0"
      ]
     },
     "execution_count": 45,
     "metadata": {},
     "output_type": "execute_result"
    }
   ],
   "source": [
    "len(df[df['media_type'].str.contains('sci-fi', case=False)])"
   ]
  },
  {
   "cell_type": "code",
   "execution_count": 46,
   "id": "e1f457e7-2c50-45ae-8666-212e9aaba78b",
   "metadata": {},
   "outputs": [
    {
     "data": {
      "text/plain": [
       "20"
      ]
     },
     "execution_count": 46,
     "metadata": {},
     "output_type": "execute_result"
    }
   ],
   "source": [
    "df['vote_average'].count()"
   ]
  },
  {
   "cell_type": "code",
   "execution_count": 47,
   "id": "b50bd474-0c16-47d8-a9e8-d12b00e10b67",
   "metadata": {},
   "outputs": [
    {
     "data": {
      "image/png": "[encoded data removed]",
      "text/plain": [
       "<Figure size 640x480 with 1 Axes>"
      ]
     },
     "metadata": {},
     "output_type": "display_data"
    }
   ],
   "source": [
    "sns.countplot(x = df['media_type'])\n",
    "plt.title('To show what people view most')\n",
    "plt.show()"
   ]
  },
  {
   "cell_type": "code",
   "execution_count": 48,
   "id": "0554eb38-d750-480f-877d-6a40e435e5dc",
   "metadata": {},
   "outputs": [],
   "source": [
    "df.to_csv('trending_clean.csv')"
   ]
  },
  {
   "cell_type": "code",
   "execution_count": null,
   "id": "7b12618b-997d-44bc-bf99-82d97e438764",
   "metadata": {},
   "outputs": [],
   "source": []
  }
 ],
 "metadata": {
  "kernelspec": {
   "display_name": "tutorial-2",
   "language": "python",
   "name": "tutorial-2"
  },
  "language_info": {
   "codemirror_mode": {
    "name": "ipython",
    "version": 3
   },
   "file_extension": ".py",
   "mimetype": "text/x-python",
   "name": "python",
   "nbconvert_exporter": "python",
   "pygments_lexer": "ipython3",
   "version": "3.10.6"
  }
 },
 "nbformat": 4,
 "nbformat_minor": 5
}
